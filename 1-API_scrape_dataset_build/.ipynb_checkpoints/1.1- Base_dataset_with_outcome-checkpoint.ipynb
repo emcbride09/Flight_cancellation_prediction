{
 "cells": [
  {
   "cell_type": "markdown",
   "metadata": {},
   "source": [
    "# A machine learning model to predict flight cancellations.\n",
    "\n",
    "### Goals\n",
    "- the ability to predict flight cancellations at least 1 week ahead of schedule. \n",
    "\n",
    "### Prior studies on the topic\n",
    "https://srcole.github.io/assets/flight_delay/report.pdf - study which used classification for >15 mins late\n",
    "\n",
    "### Scope: \n",
    "As this is a POC all airports are going to be too much to do. This project will be a binary classification of flights leaving Heathrow (1- cancelled 0- non-cancelled)\n",
    "\n",
    "\n",
    "### Steps:\n",
    "1. create a dataset with our positive outcome variable - cancelled flights from Heathrow  \n",
    "    a. combine it with another dataset with our negative outcome variable - non cancelled flights\n",
    "2. Exploratory data analysis\n",
    "\n",
    "3. feature engineering (see below for ongoing ideas if time permits)\n",
    "\n",
    "4. Model selection\n",
    "\n",
    "5. Model performance assessment\n",
    "\n",
    "\n",
    "### Feature ideas:\n",
    "\n",
    "1. Weather predicted the day/week before - numerical score, encoded score\n",
    "\n",
    "2. Sentiment analysis __from__ the Heathrow leadership boards Tweets.\n",
    "\n",
    "3. Sentiment analysis __about__ Heathrow\n",
    "\n",
    "4. BA Union website, crawler for mentiones of #strikes\n",
    "\n",
    "5. Do # of daily covid infections affect flight cancellations? https://data.london.gov.uk/api/table/s8c9t_j4fs2\n",
    "\n",
    "### Modelling:\n",
    "1. Depending on time/scope - we will examine whether the dataset can be used for logistic regression. \n",
    "2. Assess other models for appropriateness"
   ]
  },
  {
   "cell_type": "markdown",
   "metadata": {},
   "source": [
    "Libraries"
   ]
  },
  {
   "cell_type": "code",
   "execution_count": 2,
   "metadata": {},
   "outputs": [],
   "source": [
    "import numpy as np\n",
    "import requests\n",
    "import json\n",
    "import time\n",
    "import os\n",
    "# saved my API key and secret and added to gitignore\n",
    "import ae_keys\n",
    "import pandas as pd\n",
    "from pandas.io.json import json_normalize\n",
    "from datetime import date, timedelta"
   ]
  },
  {
   "cell_type": "code",
   "execution_count": 3,
   "metadata": {},
   "outputs": [
    {
     "data": {
      "text/plain": [
       "'C:\\\\Users\\\\ellio\\\\Desktop\\\\Python\\\\scripts\\\\ML_flight_cancellation_prediction\\\\1- API_scrape_dataset_build'"
      ]
     },
     "execution_count": 3,
     "metadata": {},
     "output_type": "execute_result"
    }
   ],
   "source": [
    "os.chdir('C:\\\\Users\\\\ellio\\\\Desktop\\\\Python\\\\scripts\\\\ML_flight_cancellation_prediction\\\\1- API_scrape_dataset_build')\n",
    "os.getcwd()"
   ]
  },
  {
   "cell_type": "markdown",
   "metadata": {},
   "source": [
    "### Solution 1 - the flightaware API\n",
    "\n",
    "##### Subscription required\n",
    "I have set up a developer account at:\n",
    "https://uk.flightaware.com/commercial/flightxml/ \n",
    "\n",
    "This is a pay for service account- however it shouldn't be too expensive to develop a POC dataset to do initial modelling on\n",
    "\n",
    "Drawbacks: \n",
    "- time in UNIX seconds since 1970 - annoying but ultimately nbd\n",
    "- there is a lot of information and endpoints here, the solution may take the form of a number of queries and joins. \n",
    "\n",
    "Positives:\n",
    "- there is a very active user community to keep the developers honest here: https://discussions.flightaware.com/ "
   ]
  },
  {
   "cell_type": "code",
   "execution_count": 4,
   "metadata": {},
   "outputs": [
    {
     "ename": "NameError",
     "evalue": "name 'keys' is not defined",
     "output_type": "error",
     "traceback": [
      "\u001b[1;31m---------------------------------------------------------------------------\u001b[0m",
      "\u001b[1;31mNameError\u001b[0m                                 Traceback (most recent call last)",
      "\u001b[1;32m<ipython-input-4-a116264d15d6>\u001b[0m in \u001b[0;36m<module>\u001b[1;34m\u001b[0m\n\u001b[0;32m      2\u001b[0m \u001b[1;33m\u001b[0m\u001b[0m\n\u001b[0;32m      3\u001b[0m \u001b[1;31m#imported from the keys file, added to .gitignore\u001b[0m\u001b[1;33m\u001b[0m\u001b[1;33m\u001b[0m\u001b[1;33m\u001b[0m\u001b[0m\n\u001b[1;32m----> 4\u001b[1;33m \u001b[0musername\u001b[0m \u001b[1;33m=\u001b[0m \u001b[0mkeys\u001b[0m\u001b[1;33m.\u001b[0m\u001b[0musername\u001b[0m\u001b[1;33m\u001b[0m\u001b[1;33m\u001b[0m\u001b[0m\n\u001b[0m\u001b[0;32m      5\u001b[0m \u001b[0mapiKey\u001b[0m \u001b[1;33m=\u001b[0m \u001b[0mkeys\u001b[0m\u001b[1;33m.\u001b[0m\u001b[0mapiKey\u001b[0m\u001b[1;33m\u001b[0m\u001b[1;33m\u001b[0m\u001b[0m\n\u001b[0;32m      6\u001b[0m \u001b[1;33m\u001b[0m\u001b[0m\n",
      "\u001b[1;31mNameError\u001b[0m: name 'keys' is not defined"
     ]
    }
   ],
   "source": [
    "# Define the values we will need for the API\n",
    "\n",
    "#imported from the keys file, added to .gitignore\n",
    "username = keys.username \n",
    "apiKey = keys.apiKey\n",
    "\n",
    "#get today values\n",
    "today = date.today()\n",
    "str_today = str(today)\n",
    "pattern = '%Y-%m-%d'\n",
    "epoch_today = int(time.mktime(time.strptime(str_today, pattern)))\n",
    "\n",
    "#tomorrow values \n",
    "tomorrow = datetime.date.today() + datetime.timedelta(days = 1)\n",
    "str_tomorrow = str(tomorrow)\n",
    "pattern = '%Y-%m-%d'\n",
    "epoch_tomorrow = int(time.mktime(time.strptime(str_tomorrow, pattern)))"
   ]
  },
  {
   "cell_type": "markdown",
   "metadata": {},
   "source": [
    "Set maximum query payload"
   ]
  },
  {
   "cell_type": "code",
   "execution_count": null,
   "metadata": {},
   "outputs": [],
   "source": [
    "fxmlUrl = \"https://flightxml.flightaware.com/json/FlightXML2/\" # Our URL\n",
    "\n",
    "endpoint = 'SetMaximumResultSize' # once this payload is set, it will default the account until it is set or reset. \n",
    "\n",
    "payload = {'max_size': 150} # set number\n",
    "\n",
    "response = requests.get(fxmlUrl + endpoint, params=payload, auth=(username, apiKey))\n",
    "\n",
    "if response.status_code == 200:\n",
    "    print(\"Max size response set\")\n",
    "else:\n",
    "    print(\"Error executing request\")"
   ]
  },
  {
   "cell_type": "markdown",
   "metadata": {},
   "source": [
    "Set up the API call with a payload of 2 so not to spend too much $$$"
   ]
  },
  {
   "cell_type": "code",
   "execution_count": null,
   "metadata": {},
   "outputs": [],
   "source": [
    "# Set up the API call - parameters into the payload and glue the URL request together\n",
    "fxmlUrl = \"https://flightxml.flightaware.com/json/FlightXML2/\" # Our URL\n",
    "endpoint = 'SearchBirdseyeInFlight' # Our endpoint, full documentation: https://flightaware.com/commercial/flightxml/explorer/#op_SearchBirdseyeInFlight \n",
    "\n",
    "payload = {'startDate': 1608654400, 'endDate': 1609027200, 'true': 'cancelled', 'orig': 'EGLL', 'howMany': 2}\n",
    "\n",
    "payload_ls = []\n",
    "\n",
    "response = requests.get(fxmlUrl + endpoint, params=payload, auth=(username, apiKey))\n",
    "\n",
    "if response.status_code == 200:\n",
    "    payload_ls.append(response.json())\n",
    "    cancelled_flights = pd.json_normalize(payload_ls[0]['SearchBirdseyeInFlightResult']['aircraft'])\n",
    "    cancelled_flights['cancelled'] = 1\n",
    "    \n",
    "    print(\"Request is good and dataframe returned\")\n",
    "else:\n",
    "    print(\"Error executing request\")"
   ]
  },
  {
   "cell_type": "markdown",
   "metadata": {},
   "source": [
    "There seems to be a lot of extra small flights included in the payload. This needs to be rectified. Enquire as to heavy or commercial flights only."
   ]
  },
  {
   "cell_type": "code",
   "execution_count": null,
   "metadata": {},
   "outputs": [],
   "source": [
    "cancelled_flights"
   ]
  },
  {
   "cell_type": "markdown",
   "metadata": {},
   "source": [
    "Annoyingly, the cancelled flights don't give dates outside our parameters, so we will have to take their flight id's and requery the API, this is going to be expensive if we need to create a large dataset, so we might keep the values to 1500 rows for the entire thing and build a shell model. "
   ]
  },
  {
   "cell_type": "code",
   "execution_count": null,
   "metadata": {},
   "outputs": [],
   "source": [
    "# API call to get us a dataframe of the cancelled flights\n",
    "\n",
    "fxmlUrl = \"https://flightxml.flightaware.com/json/FlightXML2/\" # Our URL\n",
    "\n",
    "endpoint = 'FlightInfoEx'\n",
    "\n",
    "payload = {'startDate': 1608854400, 'endDate': 1609027200, 'airport': 'EGLL', 'howMany': 150}\n",
    "\n",
    "payload_ls = []\n",
    "\n",
    "response = requests.get(fxmlUrl + endpoint, params=payload, auth=(username, apiKey))\n",
    "\n",
    "if response.status_code == 200:\n",
    "    payload_ls.append(response.json())\n",
    "    fs_df = pd.json_normalize(payload_ls[0]['DepartedResult']['departures'])\n",
    "    print(\"Request is good and dataframe returned\")\n",
    "else:\n",
    "    print(\"Error executing request\")"
   ]
  },
  {
   "cell_type": "code",
   "execution_count": null,
   "metadata": {},
   "outputs": [],
   "source": [
    "fs_df.head(4)"
   ]
  },
  {
   "cell_type": "markdown",
   "metadata": {},
   "source": [
    "Need the clean names of the airlines - I have scraped the details from a IATA table from wikipedia. See 1.1. I can use the first 3 digits from the 'ident' field as an identifier for this information\n",
    "\n",
    "\n",
    "# Problem encountered:\n",
    "\n",
    "The flight aware API isn't returning the cancelled flights from the requested location. Furthermore, the dates on the flights aren't included. \n",
    "\n",
    "### options:\n",
    "- find a unique identifier and join with a dataset that has the dates included. \n",
    "- find another source of cancelled flights. \n",
    "\n",
    "\n",
    "### I have found a new API may have what we need\n",
    "https://aviation-edge.com/\n",
    "\n",
    "This API has flight cancellations at the individual flight level, it also can be filtered by airport, this looks promising. \n",
    "\n",
    "##### Subscription required\n",
    "I have set up a developer account. This is a pay for service account- however it shouldn't be too expensive to develop a POC dataset to do initial modelling on \n",
    "\n",
    "### Limitations:\n",
    "\n",
    "- The maximum amount of days returned is 30 __*** Update ***__, 30 day query was returning errors, reduced each qury to 14 days.\n",
    "- There is only historical data from May 2020, this may leave us with a small dataset. \n",
    "\n",
    "# Fix - new API:\n",
    " - create 30 day intervals using a date_from and date_to list. Iterate over all of them and concatenate the result into a dataframe"
   ]
  },
  {
   "cell_type": "code",
   "execution_count": null,
   "metadata": {},
   "outputs": [],
   "source": [
    "# Set new API parameters, rename values in case we decide to run and use both\n",
    "\n",
    "url = 'http://aviation-edge.com/v2/public/flightsHistory?key=' # Our URL\n",
    "\n",
    "key = ae_keys.api_key # import keys from local script - added to gitignore\n",
    "\n",
    "payload = '&code=LHR&type=departure' # London Heathrow and departures only\n",
    "\n",
    "start = date(2020, 5, 1) # start date\n",
    "\n",
    "end = date(2020, 12, 25) # end date - not used within the query but as a stopping point for the while loop\n",
    "\n",
    "payload_ls = [] #list to add each payload response to\n",
    "\n",
    "DictionaryOfDataFrames = {} # to add each dataframe to\n",
    "\n",
    "group = 0 # to index the dataframe\n",
    "\n",
    "while start < end:\n",
    "    response = requests.get(url + str(key)+ payload + '&date_from=' + str(start) + '&date_to=' +str(start + timedelta(days=14)))\n",
    "    start += timedelta(days=15) #adds one extra day so not to query the same day again      \n",
    "    payload_ls.append(response.json()) #adds json to list\n",
    "    DictionaryOfDataFrames[\"group \" + str(start)] = pd.json_normalize(payload_ls[group]) # adds dataframe to dictionary using group index\n",
    "    group += 1\n",
    "    print(url + str(key)+ payload + '&date_from=' + str(start) + '&date_to=' +str(start + timedelta(days=14))) # to check payloads in case something goes awry - something did. Error discovered in EDA that payload\n",
    "    #was missing between 19 Oct and 4 November - rerunning query\n",
    "\n",
    "#concatenate to one dataframe\n",
    "flight_schedule_dataframe = pd.concat(DictionaryOfDataFrames.values(), ignore_index=True)"
   ]
  },
  {
   "cell_type": "code",
   "execution_count": 107,
   "metadata": {},
   "outputs": [
    {
     "data": {
      "text/html": [
       "<div>\n",
       "<style scoped>\n",
       "    .dataframe tbody tr th:only-of-type {\n",
       "        vertical-align: middle;\n",
       "    }\n",
       "\n",
       "    .dataframe tbody tr th {\n",
       "        vertical-align: top;\n",
       "    }\n",
       "\n",
       "    .dataframe thead th {\n",
       "        text-align: right;\n",
       "    }\n",
       "</style>\n",
       "<table border=\"1\" class=\"dataframe\">\n",
       "  <thead>\n",
       "    <tr style=\"text-align: right;\">\n",
       "      <th></th>\n",
       "      <th>type</th>\n",
       "      <th>status</th>\n",
       "      <th>departure.iataCode</th>\n",
       "      <th>departure.icaoCode</th>\n",
       "      <th>departure.terminal</th>\n",
       "      <th>departure.scheduledTime</th>\n",
       "      <th>arrival.iataCode</th>\n",
       "      <th>arrival.icaoCode</th>\n",
       "      <th>arrival.terminal</th>\n",
       "      <th>arrival.scheduledTime</th>\n",
       "      <th>...</th>\n",
       "      <th>departure.actualRunway</th>\n",
       "      <th>arrival.estimatedTime</th>\n",
       "      <th>arrival.baggage</th>\n",
       "      <th>arrival.gate</th>\n",
       "      <th>arrival.delay</th>\n",
       "      <th>arrival.actualTime</th>\n",
       "      <th>arrival.estimatedRunway</th>\n",
       "      <th>arrival.actualRunway</th>\n",
       "      <th>error</th>\n",
       "      <th>success</th>\n",
       "    </tr>\n",
       "  </thead>\n",
       "  <tbody>\n",
       "    <tr>\n",
       "      <th>0</th>\n",
       "      <td>departure</td>\n",
       "      <td>unknown</td>\n",
       "      <td>lhr</td>\n",
       "      <td>egll</td>\n",
       "      <td>2</td>\n",
       "      <td>2020-06-01 06:40:00</td>\n",
       "      <td>dub</td>\n",
       "      <td>eidw</td>\n",
       "      <td>2</td>\n",
       "      <td>2020-06-01t08:05:00.000</td>\n",
       "      <td>...</td>\n",
       "      <td>NaN</td>\n",
       "      <td>NaN</td>\n",
       "      <td>NaN</td>\n",
       "      <td>NaN</td>\n",
       "      <td>NaN</td>\n",
       "      <td>NaN</td>\n",
       "      <td>NaN</td>\n",
       "      <td>NaN</td>\n",
       "      <td>NaN</td>\n",
       "      <td>NaN</td>\n",
       "    </tr>\n",
       "    <tr>\n",
       "      <th>1</th>\n",
       "      <td>departure</td>\n",
       "      <td>unknown</td>\n",
       "      <td>lhr</td>\n",
       "      <td>egll</td>\n",
       "      <td>2</td>\n",
       "      <td>2020-06-01 06:40:00</td>\n",
       "      <td>dub</td>\n",
       "      <td>eidw</td>\n",
       "      <td>2</td>\n",
       "      <td>2020-06-01t08:05:00.000</td>\n",
       "      <td>...</td>\n",
       "      <td>NaN</td>\n",
       "      <td>NaN</td>\n",
       "      <td>NaN</td>\n",
       "      <td>NaN</td>\n",
       "      <td>NaN</td>\n",
       "      <td>NaN</td>\n",
       "      <td>NaN</td>\n",
       "      <td>NaN</td>\n",
       "      <td>NaN</td>\n",
       "      <td>NaN</td>\n",
       "    </tr>\n",
       "    <tr>\n",
       "      <th>2</th>\n",
       "      <td>departure</td>\n",
       "      <td>unknown</td>\n",
       "      <td>lhr</td>\n",
       "      <td>egll</td>\n",
       "      <td>2</td>\n",
       "      <td>2020-06-01 06:40:00</td>\n",
       "      <td>dub</td>\n",
       "      <td>eidw</td>\n",
       "      <td>2</td>\n",
       "      <td>2020-06-01t08:05:00.000</td>\n",
       "      <td>...</td>\n",
       "      <td>NaN</td>\n",
       "      <td>NaN</td>\n",
       "      <td>NaN</td>\n",
       "      <td>NaN</td>\n",
       "      <td>NaN</td>\n",
       "      <td>NaN</td>\n",
       "      <td>NaN</td>\n",
       "      <td>NaN</td>\n",
       "      <td>NaN</td>\n",
       "      <td>NaN</td>\n",
       "    </tr>\n",
       "  </tbody>\n",
       "</table>\n",
       "<p>3 rows × 37 columns</p>\n",
       "</div>"
      ],
      "text/plain": [
       "        type   status departure.iataCode departure.icaoCode  \\\n",
       "0  departure  unknown                lhr               egll   \n",
       "1  departure  unknown                lhr               egll   \n",
       "2  departure  unknown                lhr               egll   \n",
       "\n",
       "  departure.terminal departure.scheduledTime arrival.iataCode  \\\n",
       "0                  2     2020-06-01 06:40:00              dub   \n",
       "1                  2     2020-06-01 06:40:00              dub   \n",
       "2                  2     2020-06-01 06:40:00              dub   \n",
       "\n",
       "  arrival.icaoCode arrival.terminal    arrival.scheduledTime  ...  \\\n",
       "0             eidw                2  2020-06-01t08:05:00.000  ...   \n",
       "1             eidw                2  2020-06-01t08:05:00.000  ...   \n",
       "2             eidw                2  2020-06-01t08:05:00.000  ...   \n",
       "\n",
       "  departure.actualRunway arrival.estimatedTime arrival.baggage arrival.gate  \\\n",
       "0                    NaN                   NaN             NaN          NaN   \n",
       "1                    NaN                   NaN             NaN          NaN   \n",
       "2                    NaN                   NaN             NaN          NaN   \n",
       "\n",
       "  arrival.delay arrival.actualTime arrival.estimatedRunway  \\\n",
       "0           NaN                NaN                     NaN   \n",
       "1           NaN                NaN                     NaN   \n",
       "2           NaN                NaN                     NaN   \n",
       "\n",
       "  arrival.actualRunway error success  \n",
       "0                  NaN   NaN     NaN  \n",
       "1                  NaN   NaN     NaN  \n",
       "2                  NaN   NaN     NaN  \n",
       "\n",
       "[3 rows x 37 columns]"
      ]
     },
     "execution_count": 107,
     "metadata": {},
     "output_type": "execute_result"
    }
   ],
   "source": [
    "flight_schedule_dataframe.head(3)"
   ]
  },
  {
   "cell_type": "code",
   "execution_count": 7,
   "metadata": {},
   "outputs": [
    {
     "data": {
      "text/plain": [
       "(139740, 36)"
      ]
     },
     "execution_count": 7,
     "metadata": {},
     "output_type": "execute_result"
    }
   ],
   "source": [
    "# original query with missing data was 121,547 rows likely missing a 2 week period\n",
    "\n",
    "# rerunning the same query again has returned 139740 rows - Logged a support ticket with the API owner and the API urls\n",
    "flight_schedule_dataframe.shape"
   ]
  },
  {
   "cell_type": "code",
   "execution_count": 105,
   "metadata": {},
   "outputs": [
    {
     "data": {
      "text/plain": [
       "Timestamp('2020-06-01 06:40:00')"
      ]
     },
     "metadata": {},
     "output_type": "display_data"
    },
    {
     "data": {
      "text/plain": [
       "Timestamp('2020-12-14 22:30:00')"
      ]
     },
     "metadata": {},
     "output_type": "display_data"
    }
   ],
   "source": [
    "flight_schedule_dataframe['departure.scheduledTime'] = pd.to_datetime(flight_schedule_dataframe['departure.scheduledTime'])\n",
    "\n",
    "display(min(flight_schedule_dataframe['departure.scheduledTime']))\n",
    "display(max(flight_schedule_dataframe['departure.scheduledTime']))"
   ]
  },
  {
   "cell_type": "markdown",
   "metadata": {},
   "source": [
    "~19k rows - not bad, will defo be enough to do basic modelling on. Save as a parquet and bounce on over to EDA"
   ]
  },
  {
   "cell_type": "code",
   "execution_count": 109,
   "metadata": {},
   "outputs": [],
   "source": [
    "flight_schedule_dataframe.to_parquet('C:\\\\Users\\\\ellio\\\\Desktop\\\\Python\\\\scripts\\\\ML_flight_cancellation_prediction\\\\datasets\\\\1.1-full_departures.parquet.gzip',\n",
    "              compression='gzip')"
   ]
  },
  {
   "cell_type": "code",
   "execution_count": null,
   "metadata": {},
   "outputs": [],
   "source": []
  }
 ],
 "metadata": {
  "kernelspec": {
   "display_name": "Python 3",
   "language": "python",
   "name": "python3"
  },
  "language_info": {
   "codemirror_mode": {
    "name": "ipython",
    "version": 3
   },
   "file_extension": ".py",
   "mimetype": "text/x-python",
   "name": "python",
   "nbconvert_exporter": "python",
   "pygments_lexer": "ipython3",
   "version": "3.7.4"
  }
 },
 "nbformat": 4,
 "nbformat_minor": 4
}
