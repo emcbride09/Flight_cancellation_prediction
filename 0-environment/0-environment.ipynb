{
 "cells": [
  {
   "cell_type": "markdown",
   "metadata": {},
   "source": [
    "# Environment\n",
    "Upgrade Python modules"
   ]
  },
  {
   "cell_type": "code",
   "execution_count": 1,
   "metadata": {},
   "outputs": [
    {
     "name": "stdout",
     "output_type": "stream",
     "text": [
      "Requirement already satisfied: numpy in c:\\users\\ellio\\anaconda3\\lib\\site-packages (1.19.4)\n",
      "Requirement already satisfied: pandas in c:\\users\\ellio\\anaconda3\\lib\\site-packages (1.1.5)\n",
      "Requirement already satisfied: matplotlib in c:\\users\\ellio\\appdata\\roaming\\python\\python37\\site-packages (3.3.3)\n",
      "Requirement already satisfied: requests in c:\\users\\ellio\\anaconda3\\lib\\site-packages (2.25.1)\n",
      "Requirement already satisfied: seaborn in c:\\users\\ellio\\anaconda3\\lib\\site-packages (0.11.1)\n",
      "Requirement already satisfied: scipy in c:\\users\\ellio\\appdata\\roaming\\python\\python37\\site-packages (1.5.4)\n",
      "Requirement already satisfied: scikit-learn in c:\\users\\ellio\\anaconda3\\lib\\site-packages (0.24.0)\n",
      "Requirement already satisfied: xgboost in c:\\users\\ellio\\anaconda3\\lib\\site-packages (0.90)\n",
      "Requirement already satisfied: shap in c:\\users\\ellio\\appdata\\roaming\\python\\python37\\site-packages (0.37.0)\n",
      "Requirement already satisfied: python-dateutil>=2.1 in c:\\users\\ellio\\anaconda3\\lib\\site-packages (from matplotlib) (2.8.1)\n",
      "Requirement already satisfied: pyparsing!=2.0.4,!=2.1.2,!=2.1.6,>=2.0.3 in c:\\users\\ellio\\anaconda3\\lib\\site-packages (from matplotlib) (2.4.7)\n",
      "Requirement already satisfied: kiwisolver>=1.0.1 in c:\\users\\ellio\\anaconda3\\lib\\site-packages (from matplotlib) (1.3.0)\n"
     ]
    },
    {
     "name": "stderr",
     "output_type": "stream",
     "text": [
      "ERROR: Could not install packages due to an EnvironmentError: [WinError 5] Access is denied: 'c:\\\\users\\\\ellio\\\\anaconda3\\\\lib\\\\site-packages\\\\~andas\\\\_libs\\\\algos.cp37-win_amd64.pyd'\n",
      "Consider using the `--user` option or check the permissions.\n",
      "\n"
     ]
    },
    {
     "name": "stdout",
     "output_type": "stream",
     "text": [
      "Requirement already satisfied: pillow>=6.2.0 in c:\\users\\ellio\\anaconda3\\lib\\site-packages (from matplotlib) (8.0.1)\n",
      "Requirement already satisfied: cycler>=0.10 in c:\\users\\ellio\\anaconda3\\lib\\site-packages (from matplotlib) (0.10.0)\n",
      "Requirement already satisfied: six in c:\\users\\ellio\\anaconda3\\lib\\site-packages (from cycler>=0.10->matplotlib) (1.15.0)\n",
      "Collecting pandas\n",
      "  Downloading pandas-1.2.0-cp37-cp37m-win_amd64.whl (9.1 MB)\n",
      "Requirement already satisfied: pytz>=2017.3 in c:\\users\\ellio\\anaconda3\\lib\\site-packages (from pandas) (2020.4)\n",
      "Requirement already satisfied: certifi>=2017.4.17 in c:\\users\\ellio\\anaconda3\\lib\\site-packages (from requests) (2020.12.5)\n",
      "Requirement already satisfied: urllib3<1.27,>=1.21.1 in c:\\users\\ellio\\anaconda3\\lib\\site-packages (from requests) (1.25.11)\n",
      "Requirement already satisfied: chardet<5,>=3.0.2 in c:\\users\\ellio\\anaconda3\\lib\\site-packages (from requests) (3.0.4)\n",
      "Requirement already satisfied: idna<3,>=2.5 in c:\\users\\ellio\\anaconda3\\lib\\site-packages (from requests) (2.10)\n",
      "Requirement already satisfied: joblib>=0.11 in c:\\users\\ellio\\appdata\\roaming\\python\\python37\\site-packages (from scikit-learn) (0.17.0)\n",
      "Requirement already satisfied: threadpoolctl>=2.0.0 in c:\\users\\ellio\\appdata\\roaming\\python\\python37\\site-packages (from scikit-learn) (2.1.0)\n",
      "Requirement already satisfied: slicer==0.0.3 in c:\\users\\ellio\\anaconda3\\lib\\site-packages (from shap) (0.0.3)\n",
      "Requirement already satisfied: tqdm>4.25.0 in c:\\users\\ellio\\appdata\\roaming\\python\\python37\\site-packages (from shap) (4.54.0)\n",
      "Requirement already satisfied: numba in c:\\users\\ellio\\anaconda3\\lib\\site-packages (from shap) (0.51.2)\n",
      "Collecting xgboost\n",
      "  Downloading xgboost-1.3.1-py3-none-win_amd64.whl (95.2 MB)\n",
      "Requirement already satisfied: llvmlite<0.35,>=0.34.0.dev0 in c:\\users\\ellio\\anaconda3\\lib\\site-packages (from numba->shap) (0.34.0)\n",
      "Requirement already satisfied: setuptools in c:\\users\\ellio\\anaconda3\\lib\\site-packages (from numba->shap) (51.0.0.post20201207)\n",
      "Installing collected packages: pandas, xgboost\n",
      "  Attempting uninstall: pandas\n",
      "    Found existing installation: pandas 1.1.5\n",
      "    Uninstalling pandas-1.1.5:\n",
      "      Successfully uninstalled pandas-1.1.5\n"
     ]
    }
   ],
   "source": [
    "!pip install --upgrade numpy pandas matplotlib requests seaborn scipy scikit-learn xgboost shap"
   ]
  },
  {
   "cell_type": "code",
   "execution_count": 2,
   "metadata": {},
   "outputs": [
    {
     "data": {
      "text/plain": [
       "'numpy==1.19.2'"
      ]
     },
     "metadata": {},
     "output_type": "display_data"
    },
    {
     "data": {
      "text/plain": [
       "'pandas==1.1.5'"
      ]
     },
     "metadata": {},
     "output_type": "display_data"
    },
    {
     "data": {
      "text/plain": [
       "'matplotlib==3.3.3'"
      ]
     },
     "metadata": {},
     "output_type": "display_data"
    },
    {
     "data": {
      "text/plain": [
       "'seaborn==0.11.1'"
      ]
     },
     "metadata": {},
     "output_type": "display_data"
    },
    {
     "data": {
      "text/plain": [
       "'dask==2020.12.0'"
      ]
     },
     "metadata": {},
     "output_type": "display_data"
    },
    {
     "data": {
      "text/plain": [
       "'scipy==1.5.4'"
      ]
     },
     "metadata": {},
     "output_type": "display_data"
    },
    {
     "data": {
      "text/plain": [
       "'sklearn==0.24.0'"
      ]
     },
     "metadata": {},
     "output_type": "display_data"
    },
    {
     "data": {
      "text/plain": [
       "'xgboost==0.90'"
      ]
     },
     "metadata": {},
     "output_type": "display_data"
    },
    {
     "data": {
      "text/plain": [
       "'shap==0.37.0'"
      ]
     },
     "metadata": {},
     "output_type": "display_data"
    },
    {
     "data": {
      "text/plain": [
       "'requests==2.25.1'"
      ]
     },
     "metadata": {},
     "output_type": "display_data"
    },
    {
     "data": {
      "text/plain": [
       "'json==2.0.9'"
      ]
     },
     "metadata": {},
     "output_type": "display_data"
    }
   ],
   "source": [
    "import numpy as np\n",
    "import pandas as pd\n",
    "import matplotlib as mpl\n",
    "import seaborn as sns\n",
    "import dask\n",
    "import scipy as sp\n",
    "import sklearn as skl\n",
    "import xgboost as xgb\n",
    "import shap\n",
    "import requests\n",
    "import json\n",
    "\n",
    "display(\n",
    "    f'numpy=={np.__version__}',\n",
    "    f'pandas=={pd.__version__}',\n",
    "    f'matplotlib=={mpl.__version__}',\n",
    "    f'seaborn=={sns.__version__}',\n",
    "    f'dask=={dask.__version__}',\n",
    "    f'scipy=={sp.__version__}',\n",
    "    f'sklearn=={skl.__version__}',\n",
    "    f'xgboost=={xgb.__version__}',\n",
    "    f'shap=={shap.__version__}',\n",
    "    f'requests=={requests.__version__}',\n",
    "    f'json=={json.__version__}',\n",
    ")"
   ]
  },
  {
   "cell_type": "code",
   "execution_count": null,
   "metadata": {},
   "outputs": [],
   "source": []
  }
 ],
 "metadata": {
  "kernelspec": {
   "display_name": "Python 3",
   "language": "python",
   "name": "python3"
  },
  "language_info": {
   "codemirror_mode": {
    "name": "ipython",
    "version": 3
   },
   "file_extension": ".py",
   "mimetype": "text/x-python",
   "name": "python",
   "nbconvert_exporter": "python",
   "pygments_lexer": "ipython3",
   "version": "3.7.4"
  }
 },
 "nbformat": 4,
 "nbformat_minor": 4
}
