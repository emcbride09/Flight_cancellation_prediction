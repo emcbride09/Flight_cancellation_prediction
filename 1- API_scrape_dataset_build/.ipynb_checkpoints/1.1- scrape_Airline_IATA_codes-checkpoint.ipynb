{
 "cells": [
  {
   "cell_type": "markdown",
   "metadata": {},
   "source": [
    "# We are going to be developing our own machine learning model to predict flight cancellations. \n",
    "\n",
    "Prior studies on the topic\n",
    "https://srcole.github.io/assets/flight_delay/report.pdf - study which used classification for >15 mins late\n",
    "\n",
    "Scope - as this is a POC all airports are going to be too much to do. \n",
    "Maybe just BA, let's see if this is too difficult.\n",
    "\n",
    "Feature ideas. \n",
    "\n",
    "1. Weather predicted the day before - numerical score, encoded score\n",
    "\n",
    "2. Sentiment analysis of the BA leadership boards Tweets.\n",
    "\n",
    "\n",
    "What causes them?\n",
    "https://www.bts.gov/topics/airlines-and-airports/understanding-reporting-causes-flight-delays-and-cancellations#q2\n",
    "\n",
    "Do the airlines report the exact cause of the delay?\n",
    "The airlines report the causes of delay in broad categories that were created by the Air Carrier On-Time Reporting Advisory Committee.  The categories are Air Carrier, National Aviation System, Weather, Late-Arriving Aircraft and Security.  The causes of cancellation are the same, except there is no late-arriving aircraft category.\n",
    "\n",
    "How are these categories defined?\n",
    "\n",
    "Air Carrier: The cause of the cancellation or delay was due to circumstances within the airline's control (e.g. maintenance or crew problems, aircraft cleaning, baggage loading, fueling, etc.).\n",
    "Extreme Weather: Significant meteorological conditions (actual or forecasted) that, in the judgment of the carrier, delays or prevents the operation of a flight such as tornado, blizzard or hurricane.\n",
    "National Aviation System (NAS): Delays and cancellations attributable to the national aviation system that refer to a broad set of conditions, such as non-extreme weather conditions, airport operations, heavy traffic volume, and air traffic control.\n",
    "Late-arriving aircraft: A previous flight with same aircraft arrived late, causing the present flight to depart late.\n",
    "Security: Delays or cancellations caused by evacuation of a terminal or concourse, re-boarding of aircraft because of security breach, inoperative screening equipment and/or long lines in excess of 29 minutes at screening areas.\n",
    "\n",
    "\n",
    "3. Covid\n",
    "https://data.london.gov.uk/api/table/s8c9t_j4fs2\n",
    "\n"
   ]
  }
 ],
 "metadata": {
  "kernelspec": {
   "display_name": "Python 3",
   "language": "python",
   "name": "python3"
  },
  "language_info": {
   "codemirror_mode": {
    "name": "ipython",
    "version": 3
   },
   "file_extension": ".py",
   "mimetype": "text/x-python",
   "name": "python",
   "nbconvert_exporter": "python",
   "pygments_lexer": "ipython3",
   "version": "3.7.4"
  }
 },
 "nbformat": 4,
 "nbformat_minor": 4
}
