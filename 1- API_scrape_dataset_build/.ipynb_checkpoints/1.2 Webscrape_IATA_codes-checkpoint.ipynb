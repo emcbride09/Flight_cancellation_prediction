{
 "cells": [
  {
   "cell_type": "markdown",
   "metadata": {},
   "source": [
    "## IATA scrape"
   ]
  },
  {
   "cell_type": "code",
   "execution_count": 58,
   "metadata": {},
   "outputs": [],
   "source": [
    "# Import necessary packages\n",
    "from bs4 import BeautifulSoup\n",
    "import requests\n",
    "import pandas as pd\n",
    "import re\n",
    "import lxml\n",
    "import bs4.builder._lxml\n",
    "# Site URL\n",
    "# url=\"https://azcargo.cz/en/services/support/iata-airline-codes/\"\n",
    "\n",
    "url = 'https://en.wikipedia.org/wiki/List_of_airline_codes'\n",
    "\n",
    "# Make a GET request to fetch the raw HTML content\n",
    "html_content = requests.get(url).text\n",
    "\n",
    "# Parse HTML code for the entire site\n",
    "soup = BeautifulSoup(html_content, \"html.parser\")\n",
    "\n",
    "\n",
    "#print(soup.prettify()) # print the parsed data of html"
   ]
  },
  {
   "cell_type": "code",
   "execution_count": 59,
   "metadata": {},
   "outputs": [
    {
     "name": "stdout",
     "output_type": "stream",
     "text": [
      "Number of tables on site:  1\n"
     ]
    }
   ],
   "source": [
    "gdp = soup.find_all(\"table\", attrs={\"class\": \"wikitable sortable\"})\n",
    "print(\"Number of tables on site: \",len(gdp))"
   ]
  },
  {
   "cell_type": "code",
   "execution_count": 60,
   "metadata": {},
   "outputs": [],
   "source": [
    "table1 = gdp[0]"
   ]
  },
  {
   "cell_type": "code",
   "execution_count": 61,
   "metadata": {},
   "outputs": [],
   "source": [
    "table1\n",
    "body = table1.find_all(\"tr\")\n",
    "head = body[0]\n",
    "body_rows = body[1:]"
   ]
  },
  {
   "cell_type": "code",
   "execution_count": 62,
   "metadata": {},
   "outputs": [
    {
     "name": "stdout",
     "output_type": "stream",
     "text": [
      "['IATA', 'ICAO', 'Airline', 'Call sign', 'Country/Region', 'Comments']\n"
     ]
    }
   ],
   "source": [
    "headings = []\n",
    "for item in head.find_all(\"th\"): # loop through all th elements\n",
    "    # convert the th elements to text and strip \"\\n\"\n",
    "    item = (item.text).strip(\"\\n|\\n|\\t\")\n",
    "    # append the clean column name to headings\n",
    "    headings.append(item)\n",
    "print(headings)"
   ]
  },
  {
   "cell_type": "code",
   "execution_count": 63,
   "metadata": {},
   "outputs": [],
   "source": [
    "# Next is now to loop though the rest of the rows\n",
    "\n",
    "#print(body_rows[0])\n",
    "all_rows = [] # will be a list for list for all rows\n",
    "for row_num in range(len(body_rows)): # A row at a time\n",
    "    row = [] # this will old entries for one row\n",
    "    for row_item in body_rows[row_num].find_all(\"td\"): #loop through all row entries\n",
    "        # row_item.text removes the tags from the entries\n",
    "        # the following regex is to remove \\xa0 and \\n and comma from row_item.text\n",
    "        # xa0 encodes the flag, \\n is the newline and comma separates thousands in numbers\n",
    "        aa = re.sub(\"(\\xa0)|(\\n)|,|\\n|\\t|IATA  – \",\"\",row_item.text)\n",
    "        #append aa to row - note one row entry is being appended\n",
    "        row.append(aa)\n",
    "    # append one row to all_rows\n",
    "    all_rows.append(row)"
   ]
  },
  {
   "cell_type": "code",
   "execution_count": 64,
   "metadata": {},
   "outputs": [
    {
     "data": {
      "text/html": [
       "<div>\n",
       "<style scoped>\n",
       "    .dataframe tbody tr th:only-of-type {\n",
       "        vertical-align: middle;\n",
       "    }\n",
       "\n",
       "    .dataframe tbody tr th {\n",
       "        vertical-align: top;\n",
       "    }\n",
       "\n",
       "    .dataframe thead th {\n",
       "        text-align: right;\n",
       "    }\n",
       "</style>\n",
       "<table border=\"1\" class=\"dataframe\">\n",
       "  <thead>\n",
       "    <tr style=\"text-align: right;\">\n",
       "      <th></th>\n",
       "      <th>IATA</th>\n",
       "      <th>ICAO</th>\n",
       "      <th>Airline</th>\n",
       "      <th>Call sign</th>\n",
       "      <th>Country/Region</th>\n",
       "      <th>Comments</th>\n",
       "    </tr>\n",
       "  </thead>\n",
       "  <tbody>\n",
       "    <tr>\n",
       "      <th>0</th>\n",
       "      <td>EVY</td>\n",
       "      <td></td>\n",
       "      <td>34 Squadron Royal Australian Air Force</td>\n",
       "      <td>Australia</td>\n",
       "      <td></td>\n",
       "      <td>None</td>\n",
       "    </tr>\n",
       "    <tr>\n",
       "      <th>1</th>\n",
       "      <td></td>\n",
       "      <td>GNL</td>\n",
       "      <td>135 Airways</td>\n",
       "      <td>GENERAL</td>\n",
       "      <td>United States</td>\n",
       "      <td></td>\n",
       "    </tr>\n",
       "    <tr>\n",
       "      <th>2</th>\n",
       "      <td>1A</td>\n",
       "      <td>n/a</td>\n",
       "      <td>Amadeus IT Group S.A.</td>\n",
       "      <td>n/a</td>\n",
       "      <td>Global</td>\n",
       "      <td>GDS and airline hosting system (CRS/PSS)</td>\n",
       "    </tr>\n",
       "    <tr>\n",
       "      <th>3</th>\n",
       "      <td>1B</td>\n",
       "      <td>n/a</td>\n",
       "      <td>Sabre travel network Asia-Pacific (ex-Abacus)</td>\n",
       "      <td>n/a</td>\n",
       "      <td>APAC</td>\n",
       "      <td>Regional distribution</td>\n",
       "    </tr>\n",
       "    <tr>\n",
       "      <th>4</th>\n",
       "      <td>1E</td>\n",
       "      <td>n/a</td>\n",
       "      <td>Travelsky</td>\n",
       "      <td>n/a</td>\n",
       "      <td>China</td>\n",
       "      <td>Local distribution system and hosting system (...</td>\n",
       "    </tr>\n",
       "  </tbody>\n",
       "</table>\n",
       "</div>"
      ],
      "text/plain": [
       "  IATA ICAO                                        Airline  Call sign  \\\n",
       "0  EVY              34 Squadron Royal Australian Air Force  Australia   \n",
       "1       GNL                                    135 Airways    GENERAL   \n",
       "2   1A  n/a                          Amadeus IT Group S.A.        n/a   \n",
       "3   1B  n/a  Sabre travel network Asia-Pacific (ex-Abacus)        n/a   \n",
       "4   1E  n/a                                      Travelsky        n/a   \n",
       "\n",
       "  Country/Region                                           Comments  \n",
       "0                                                              None  \n",
       "1  United States                                                     \n",
       "2         Global           GDS and airline hosting system (CRS/PSS)  \n",
       "3           APAC                              Regional distribution  \n",
       "4          China  Local distribution system and hosting system (...  "
      ]
     },
     "execution_count": 64,
     "metadata": {},
     "output_type": "execute_result"
    }
   ],
   "source": [
    "# We can now use the data on all_rowsa and headings to make a table\n",
    "# all_rows becomes our data and headings the column names\n",
    "df = pd.DataFrame(data=all_rows,columns=headings)\n",
    "df.head()"
   ]
  },
  {
   "cell_type": "code",
   "execution_count": null,
   "metadata": {},
   "outputs": [],
   "source": []
  }
 ],
 "metadata": {
  "kernelspec": {
   "display_name": "Python 3",
   "language": "python",
   "name": "python3"
  },
  "language_info": {
   "codemirror_mode": {
    "name": "ipython",
    "version": 3
   },
   "file_extension": ".py",
   "mimetype": "text/x-python",
   "name": "python",
   "nbconvert_exporter": "python",
   "pygments_lexer": "ipython3",
   "version": "3.7.4"
  }
 },
 "nbformat": 4,
 "nbformat_minor": 4
}
