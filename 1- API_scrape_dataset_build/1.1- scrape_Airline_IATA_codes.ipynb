{
 "cells": [
  {
   "cell_type": "markdown",
   "metadata": {},
   "source": [
    "# A machine learning model to predict flight cancellations.\n",
    "\n",
    "### Goals\n",
    "- the ability to predict flight cancellations at least 1 week ahead of schedule. \n",
    "\n",
    "### Prior studies on the topic\n",
    "https://srcole.github.io/assets/flight_delay/report.pdf - study which used classification for >15 mins late\n",
    "\n",
    "### Scope: \n",
    "As this is a POC all airports are going to be too much to do. This project will be a binary classification of flights leaving Heathrow (1- cancelled 0- non-cancelled)\n",
    "\n",
    "\n",
    "### Steps:\n",
    "1. create a dataset with our positive outcome variable - cancelled flights from Heathrow  \n",
    "    a. combine it with another dataset with our negative outcome variable - non cancelled flights\n",
    "2. Exploratory data analysis\n",
    "\n",
    "3. feature engineering (see below for ongoing ideas if time permits)\n",
    "\n",
    "4. Model selection\n",
    "\n",
    "5. Model performance assessment\n",
    "\n",
    "\n",
    "### Feature ideas:\n",
    "\n",
    "1. Weather predicted the day/week before - numerical score, encoded score\n",
    "\n",
    "2. Sentiment analysis __from__ the Heathrow leadership boards Tweets.\n",
    "\n",
    "3. Sentiment analysis __about__ Heathrow\n",
    "\n",
    "4. BA Union website, crawler for mentiones of #strikes\n",
    "\n",
    "5. Do # of daily covid infections affect flight cancellations? https://data.london.gov.uk/api/table/s8c9t_j4fs2\n",
    "\n",
    "### Modelling:\n",
    "1. Depending on time/scope - we will examine whether the dataset can be used for logistic regression. \n",
    "2. Assess other models for appropriateness"
   ]
  },
  {
   "cell_type": "markdown",
   "metadata": {},
   "source": [
    "Libraries"
   ]
  },
  {
   "cell_type": "code",
   "execution_count": 2,
   "metadata": {},
   "outputs": [],
   "source": [
    "import numpy as np\n",
    "import requests\n",
    "import json\n",
    "import datetime\n",
    "import time\n",
    "import os\n",
    "import keys # saved my API key and secret and added to gitignore\n",
    "import ft_keys\n",
    "import pandas as pd\n",
    "from pandas.io.json import json_normalize"
   ]
  },
  {
   "cell_type": "code",
   "execution_count": 3,
   "metadata": {},
   "outputs": [
    {
     "data": {
      "text/plain": [
       "'C:\\\\Users\\\\ellio\\\\Desktop\\\\Python\\\\scripts\\\\ML_flight_cancellation_prediction\\\\1- API_scrape_dataset_build'"
      ]
     },
     "execution_count": 3,
     "metadata": {},
     "output_type": "execute_result"
    }
   ],
   "source": [
    "os.chdir('C:\\\\Users\\\\ellio\\\\Desktop\\\\Python\\\\scripts\\\\ML_flight_cancellation_prediction\\\\1- API_scrape_dataset_build')\n",
    "os.getcwd()"
   ]
  },
  {
   "cell_type": "markdown",
   "metadata": {},
   "source": [
    "### Solution 1 - the flightaware API\n",
    "\n",
    "##### Subscription required\n",
    "I have set up a developer account at:\n",
    "https://uk.flightaware.com/commercial/flightxml/ \n",
    "\n",
    "This is a pay for service account- however it shouldn't be too expensive to develop a POC dataset to do initial modelling on\n",
    "\n",
    "Drawbacks: \n",
    "- time in UNIX seconds since 1970 - annoying but ultimately nbd\n",
    "- there is a lot of information and endpoints here, the solution may take the form of a number of queries and joins. \n",
    "\n",
    "Positives:\n",
    "- there is a very active user community to keep the developers honest here: https://discussions.flightaware.com/ "
   ]
  },
  {
   "cell_type": "code",
   "execution_count": 145,
   "metadata": {},
   "outputs": [],
   "source": [
    "# Define the values we will need for the API\n",
    "\n",
    "#imported from the keys file, added to .gitignore\n",
    "username = keys.username \n",
    "apiKey = keys.apiKey\n",
    "\n",
    "#get today values\n",
    "today = date.today()\n",
    "str_today = str(today)\n",
    "pattern = '%Y-%m-%d'\n",
    "epoch_today = int(time.mktime(time.strptime(str_today, pattern)))\n",
    "\n",
    "#tomorrow values \n",
    "tomorrow = datetime.date.today() + datetime.timedelta(days = 1)\n",
    "str_tomorrow = str(tomorrow)\n",
    "pattern = '%Y-%m-%d'\n",
    "epoch_tomorrow = int(time.mktime(time.strptime(str_tomorrow, pattern)))"
   ]
  },
  {
   "cell_type": "markdown",
   "metadata": {},
   "source": [
    "Set maximum query payload"
   ]
  },
  {
   "cell_type": "code",
   "execution_count": 104,
   "metadata": {},
   "outputs": [
    {
     "name": "stdout",
     "output_type": "stream",
     "text": [
      "Max size response set\n"
     ]
    }
   ],
   "source": [
    "fxmlUrl = \"https://flightxml.flightaware.com/json/FlightXML2/\" # Our URL\n",
    "\n",
    "endpoint = 'SetMaximumResultSize' # once this payload is set, it will default the account until it is set or reset. \n",
    "\n",
    "payload = {'max_size': 150} # set number\n",
    "\n",
    "response = requests.get(fxmlUrl + endpoint, params=payload, auth=(username, apiKey))\n",
    "\n",
    "if response.status_code == 200:\n",
    "    print(\"Max size response set\")\n",
    "else:\n",
    "    print(\"Error executing request\")"
   ]
  },
  {
   "cell_type": "markdown",
   "metadata": {},
   "source": [
    "Set up the API call with a payload of 2 so not to spend too much $$$"
   ]
  },
  {
   "cell_type": "code",
   "execution_count": 134,
   "metadata": {},
   "outputs": [
    {
     "name": "stdout",
     "output_type": "stream",
     "text": [
      "Request is good and dataframe returned\n"
     ]
    }
   ],
   "source": [
    "# Set up the API call - parameters into the payload and glue the URL request together\n",
    "fxmlUrl = \"https://flightxml.flightaware.com/json/FlightXML2/\" # Our URL\n",
    "endpoint = 'SearchBirdseyeInFlight' # Our endpoint, full documentation: https://flightaware.com/commercial/flightxml/explorer/#op_SearchBirdseyeInFlight \n",
    "\n",
    "payload = {'startDate': 1608654400, 'endDate': 1609027200, 'true': 'cancelled', 'orig': 'EGLL', 'howMany': 2}\n",
    "\n",
    "payload_ls = []\n",
    "\n",
    "response = requests.get(fxmlUrl + endpoint, params=payload, auth=(username, apiKey))\n",
    "\n",
    "if response.status_code == 200:\n",
    "    payload_ls.append(response.json())\n",
    "    cancelled_flights = pd.json_normalize(payload_ls[0]['SearchBirdseyeInFlightResult']['aircraft'])\n",
    "    cancelled_flights['cancelled'] = 1\n",
    "    \n",
    "    print(\"Request is good and dataframe returned\")\n",
    "else:\n",
    "    print(\"Error executing request\")"
   ]
  },
  {
   "cell_type": "markdown",
   "metadata": {},
   "source": [
    "There seems to be a lot of extra small flights included in the payload. This needs to be rectified. Enquire as to heavy or commercial flights only."
   ]
  },
  {
   "cell_type": "code",
   "execution_count": 135,
   "metadata": {},
   "outputs": [
    {
     "data": {
      "text/html": [
       "<div>\n",
       "<style scoped>\n",
       "    .dataframe tbody tr th:only-of-type {\n",
       "        vertical-align: middle;\n",
       "    }\n",
       "\n",
       "    .dataframe tbody tr th {\n",
       "        vertical-align: top;\n",
       "    }\n",
       "\n",
       "    .dataframe thead th {\n",
       "        text-align: right;\n",
       "    }\n",
       "</style>\n",
       "<table border=\"1\" class=\"dataframe\">\n",
       "  <thead>\n",
       "    <tr style=\"text-align: right;\">\n",
       "      <th></th>\n",
       "      <th>faFlightID</th>\n",
       "      <th>ident</th>\n",
       "      <th>prefix</th>\n",
       "      <th>type</th>\n",
       "      <th>suffix</th>\n",
       "      <th>origin</th>\n",
       "      <th>destination</th>\n",
       "      <th>timeout</th>\n",
       "      <th>timestamp</th>\n",
       "      <th>departureTime</th>\n",
       "      <th>...</th>\n",
       "      <th>highLongitude</th>\n",
       "      <th>highLatitude</th>\n",
       "      <th>groundspeed</th>\n",
       "      <th>altitude</th>\n",
       "      <th>heading</th>\n",
       "      <th>altitudeStatus</th>\n",
       "      <th>updateType</th>\n",
       "      <th>altitudeChange</th>\n",
       "      <th>waypoints</th>\n",
       "      <th>cancelled</th>\n",
       "    </tr>\n",
       "  </thead>\n",
       "  <tbody>\n",
       "    <tr>\n",
       "      <th>0</th>\n",
       "      <td>JIA5373-1608615956-airline-0252</td>\n",
       "      <td>JIA5373</td>\n",
       "      <td></td>\n",
       "      <td>CRJ7</td>\n",
       "      <td></td>\n",
       "      <td>KCLT</td>\n",
       "      <td>KCRW</td>\n",
       "      <td>0</td>\n",
       "      <td>0</td>\n",
       "      <td>0</td>\n",
       "      <td>...</td>\n",
       "      <td>-200.0</td>\n",
       "      <td>-200.0</td>\n",
       "      <td>0</td>\n",
       "      <td>0</td>\n",
       "      <td>0</td>\n",
       "      <td></td>\n",
       "      <td></td>\n",
       "      <td></td>\n",
       "      <td>35.21 -80.95 35.35 -81 35.4 -81.02 35.53 -81.0...</td>\n",
       "      <td>1</td>\n",
       "    </tr>\n",
       "    <tr>\n",
       "      <th>1</th>\n",
       "      <td>KAP2551-1608618316-airline-0333</td>\n",
       "      <td>KAP2551</td>\n",
       "      <td></td>\n",
       "      <td>CNA</td>\n",
       "      <td></td>\n",
       "      <td>TJSJ</td>\n",
       "      <td>TISX</td>\n",
       "      <td>0</td>\n",
       "      <td>0</td>\n",
       "      <td>0</td>\n",
       "      <td>...</td>\n",
       "      <td>-200.0</td>\n",
       "      <td>-200.0</td>\n",
       "      <td>0</td>\n",
       "      <td>0</td>\n",
       "      <td>0</td>\n",
       "      <td></td>\n",
       "      <td></td>\n",
       "      <td></td>\n",
       "      <td></td>\n",
       "      <td>1</td>\n",
       "    </tr>\n",
       "  </tbody>\n",
       "</table>\n",
       "<p>2 rows × 26 columns</p>\n",
       "</div>"
      ],
      "text/plain": [
       "                        faFlightID    ident prefix  type suffix origin  \\\n",
       "0  JIA5373-1608615956-airline-0252  JIA5373         CRJ7          KCLT   \n",
       "1  KAP2551-1608618316-airline-0333  KAP2551          CNA          TJSJ   \n",
       "\n",
       "  destination timeout  timestamp  departureTime  ...  highLongitude  \\\n",
       "0        KCRW       0          0              0  ...         -200.0   \n",
       "1        TISX       0          0              0  ...         -200.0   \n",
       "\n",
       "   highLatitude  groundspeed  altitude  heading  altitudeStatus  updateType  \\\n",
       "0        -200.0            0         0        0                               \n",
       "1        -200.0            0         0        0                               \n",
       "\n",
       "   altitudeChange                                          waypoints  \\\n",
       "0                  35.21 -80.95 35.35 -81 35.4 -81.02 35.53 -81.0...   \n",
       "1                                                                      \n",
       "\n",
       "   cancelled  \n",
       "0          1  \n",
       "1          1  \n",
       "\n",
       "[2 rows x 26 columns]"
      ]
     },
     "execution_count": 135,
     "metadata": {},
     "output_type": "execute_result"
    }
   ],
   "source": [
    "cancelled_flights"
   ]
  },
  {
   "cell_type": "markdown",
   "metadata": {},
   "source": [
    "Annoyingly, the cancelled flights don't give dates outside our parameters, so we will have to take their flight id's and requery the API, this is going to be expensive if we need to create a large dataset, so we might keep the values to 1500 rows for the entire thing and build a shell model. "
   ]
  },
  {
   "cell_type": "code",
   "execution_count": null,
   "metadata": {},
   "outputs": [],
   "source": [
    "# API call to get us a dataframe of the cancelled flights\n",
    "\n",
    "fxmlUrl = \"https://flightxml.flightaware.com/json/FlightXML2/\" # Our URL\n",
    "\n",
    "endpoint = 'FlightInfoEx'\n",
    "\n",
    "payload = {'startDate': 1608854400, 'endDate': 1609027200, 'airport': 'EGLL', 'howMany': 150}\n",
    "\n",
    "payload_ls = []\n",
    "\n",
    "response = requests.get(fxmlUrl + endpoint, params=payload, auth=(username, apiKey))\n",
    "\n",
    "if response.status_code == 200:\n",
    "    payload_ls.append(response.json())\n",
    "    fs_df = pd.json_normalize(payload_ls[0]['DepartedResult']['departures'])\n",
    "    print(\"Request is good and dataframe returned\")\n",
    "else:\n",
    "    print(\"Error executing request\")"
   ]
  },
  {
   "cell_type": "code",
   "execution_count": 105,
   "metadata": {},
   "outputs": [
    {
     "name": "stdout",
     "output_type": "stream",
     "text": [
      "Request is good and dataframe returned\n"
     ]
    }
   ],
   "source": [
    "# Get all departed flights:\n",
    "\n",
    "fxmlUrl = \"https://flightxml.flightaware.com/json/FlightXML2/\" # Our URL\n",
    "\n",
    "endpoint = 'Departed'\n",
    "\n",
    "payload = {'startDate': 1608854400, 'endDate': 1609027200, 'airport': 'EGLL', 'howMany': 150}\n",
    "\n",
    "payload_ls = []\n",
    "\n",
    "response = requests.get(fxmlUrl + endpoint, params=payload, auth=(username, apiKey))\n",
    "\n",
    "if response.status_code == 200:\n",
    "    payload_ls.append(response.json())\n",
    "    fs_df = pd.json_normalize(payload_ls[0]['DepartedResult']['departures'])\n",
    "    print(\"Request is good and dataframe returned\")\n",
    "else:\n",
    "    print(\"Error executing request\")"
   ]
  },
  {
   "cell_type": "code",
   "execution_count": 118,
   "metadata": {},
   "outputs": [
    {
     "data": {
      "text/html": [
       "<div>\n",
       "<style scoped>\n",
       "    .dataframe tbody tr th:only-of-type {\n",
       "        vertical-align: middle;\n",
       "    }\n",
       "\n",
       "    .dataframe tbody tr th {\n",
       "        vertical-align: top;\n",
       "    }\n",
       "\n",
       "    .dataframe thead th {\n",
       "        text-align: right;\n",
       "    }\n",
       "</style>\n",
       "<table border=\"1\" class=\"dataframe\">\n",
       "  <thead>\n",
       "    <tr style=\"text-align: right;\">\n",
       "      <th></th>\n",
       "      <th>ident</th>\n",
       "      <th>aircrafttype</th>\n",
       "      <th>actualdeparturetime</th>\n",
       "      <th>estimatedarrivaltime</th>\n",
       "      <th>actualarrivaltime</th>\n",
       "      <th>origin</th>\n",
       "      <th>destination</th>\n",
       "      <th>originName</th>\n",
       "      <th>originCity</th>\n",
       "      <th>destinationName</th>\n",
       "      <th>destinationCity</th>\n",
       "    </tr>\n",
       "  </thead>\n",
       "  <tbody>\n",
       "    <tr>\n",
       "      <th>0</th>\n",
       "      <td>BAW297</td>\n",
       "      <td>B789</td>\n",
       "      <td>1609077724</td>\n",
       "      <td>1609107840</td>\n",
       "      <td>0</td>\n",
       "      <td>EGLL</td>\n",
       "      <td>KORD</td>\n",
       "      <td>London Heathrow</td>\n",
       "      <td>London, England</td>\n",
       "      <td>Chicago O'Hare Intl</td>\n",
       "      <td>Chicago, IL</td>\n",
       "    </tr>\n",
       "    <tr>\n",
       "      <th>1</th>\n",
       "      <td>EIN885</td>\n",
       "      <td></td>\n",
       "      <td>1609077630</td>\n",
       "      <td>0</td>\n",
       "      <td>0</td>\n",
       "      <td>EGLL</td>\n",
       "      <td></td>\n",
       "      <td>London Heathrow</td>\n",
       "      <td>London, England</td>\n",
       "      <td></td>\n",
       "      <td></td>\n",
       "    </tr>\n",
       "    <tr>\n",
       "      <th>2</th>\n",
       "      <td>BAW193</td>\n",
       "      <td>B789</td>\n",
       "      <td>1609077486</td>\n",
       "      <td>1609111980</td>\n",
       "      <td>0</td>\n",
       "      <td>EGLL</td>\n",
       "      <td>KDFW</td>\n",
       "      <td>London Heathrow</td>\n",
       "      <td>London, England</td>\n",
       "      <td>Dallas-Fort Worth Intl</td>\n",
       "      <td>Dallas-Fort Worth, TX</td>\n",
       "    </tr>\n",
       "    <tr>\n",
       "      <th>3</th>\n",
       "      <td>MSR5531</td>\n",
       "      <td>A332</td>\n",
       "      <td>1609077406</td>\n",
       "      <td>1609093906</td>\n",
       "      <td>0</td>\n",
       "      <td>EGLL</td>\n",
       "      <td>HECA</td>\n",
       "      <td>London Heathrow</td>\n",
       "      <td>London, England</td>\n",
       "      <td>Cairo Int'l</td>\n",
       "      <td>Cairo</td>\n",
       "    </tr>\n",
       "  </tbody>\n",
       "</table>\n",
       "</div>"
      ],
      "text/plain": [
       "     ident aircrafttype  actualdeparturetime  estimatedarrivaltime  \\\n",
       "0   BAW297         B789           1609077724            1609107840   \n",
       "1   EIN885                        1609077630                     0   \n",
       "2   BAW193         B789           1609077486            1609111980   \n",
       "3  MSR5531         A332           1609077406            1609093906   \n",
       "\n",
       "   actualarrivaltime origin destination       originName       originCity  \\\n",
       "0                  0   EGLL        KORD  London Heathrow  London, England   \n",
       "1                  0   EGLL              London Heathrow  London, England   \n",
       "2                  0   EGLL        KDFW  London Heathrow  London, England   \n",
       "3                  0   EGLL        HECA  London Heathrow  London, England   \n",
       "\n",
       "          destinationName        destinationCity  \n",
       "0     Chicago O'Hare Intl            Chicago, IL  \n",
       "1                                                 \n",
       "2  Dallas-Fort Worth Intl  Dallas-Fort Worth, TX  \n",
       "3             Cairo Int'l                  Cairo  "
      ]
     },
     "execution_count": 118,
     "metadata": {},
     "output_type": "execute_result"
    }
   ],
   "source": [
    "fs_df.head(4)"
   ]
  },
  {
   "cell_type": "markdown",
   "metadata": {},
   "source": [
    "Need the clean names of the airlines - I have scraped the details from a IATA table from wikipedia. See 1.1. I can use the first 3 digits from the 'ident' field as an identifier for this information\n",
    "\n",
    "\n",
    "# Problem encountered:\n",
    "\n",
    "The flight aware API isn't returning the cancelled flights from the requested location. Furthermore, the dates on the flights aren't included. \n",
    "\n",
    "### options:\n",
    "- find a unique identifier and join with a dataset that has the dates included. \n",
    "- find another source of cancelled flights. \n",
    "\n",
    "\n",
    "### I have found a new API may have what we need\n",
    "https://aviation-edge.com/premium-api/https://aviation-edge.com/premium-api/\n",
    "\n",
    "This API has flight cancellations at the individual flight level, it also can be filtered by airport, this looks promising. \n",
    "\n",
    "##### Subscription required\n",
    "I have set up a developer account. This is a pay for service account- however it shouldn't be too expensive to develop a POC dataset to do initial modelling on \n",
    "\n",
    "### Limitations:\n",
    "\n",
    "- The maximum amount of days returned is 30 \n",
    "- There is only historical data from May 2020, this may leave us with a small dataset. \n",
    "\n",
    "## Fix:\n",
    " - create 30 day intervals using a date_from and date_to list. Iterate over all of them and concatenate the result into a dataframe"
   ]
  },
  {
   "cell_type": "code",
   "execution_count": 225,
   "metadata": {},
   "outputs": [
    {
     "name": "stdout",
     "output_type": "stream",
     "text": [
      "Request is good and dataframe 0 returned\n",
      "Request is good and dataframe 1 returned\n",
      "Request is good and dataframe 2 returned\n",
      "Request is good and dataframe 3 returned\n",
      "Request is good and dataframe 4 returned\n",
      "Request is good and dataframe 5 returned\n",
      "Request is good and dataframe 6 returned\n"
     ]
    }
   ],
   "source": [
    "# Set new API parameters, rename values in case we decide to run and use both\n",
    "\n",
    "url = 'https://aviation-edge.com/v2/public/flightsHistory?key=' # Our URL\n",
    "\n",
    "key = ft_keys.ft_apikey # import keys from local script - added to gitignore\n",
    "\n",
    "payload = '&code=LHR&type=departure' # London Heathrow and departures only\n",
    "\n",
    "date_from =  ['2020-05-15','2020-06-13', '2020-07-13', '2020-08-13', '2020-09-13', '2020-10-13', '2020-11-13'] # dates from and dates to, this year max, and then \n",
    "\n",
    "date_to =  ['2020-06-12', '2020-07-12', '2020-08-12', '2020-09-12', '2020-10-12', '2020-11-12', '2020-12-12']\n",
    "\n",
    "payload_ls = [] #list to add each payload response to\n",
    "\n",
    "for i in range(len(date_from)):\n",
    "    response = requests.get(url + str(key)+ payload + '&date_from=' + date_from[i] + '&date_to=' + date_to[i])\n",
    "    \n",
    "    if response.status_code == 200:\n",
    "        payload_ls.append(response.json())\n",
    "        DictionaryOfDataFrames[\"group\" + str(i)] = pd.json_normalize(payload_ls[i])  \n",
    "        \n",
    "        print(\"Request is good and dataframe \" + str(i) + \" returned\")\n",
    "    \n",
    "    else:\n",
    "        print(\"Error executing request\")\n",
    "\n",
    "#concatenate to one dataframe\n",
    "flight_schedule_dataframe = pd.concat(DictionaryOfDataFrames.values(), ignore_index=True) "
   ]
  },
  {
   "cell_type": "code",
   "execution_count": 226,
   "metadata": {},
   "outputs": [
    {
     "data": {
      "text/plain": [
       "(19063, 37)"
      ]
     },
     "execution_count": 226,
     "metadata": {},
     "output_type": "execute_result"
    }
   ],
   "source": [
    "flight_schedule_dataframe.shape"
   ]
  },
  {
   "cell_type": "markdown",
   "metadata": {},
   "source": [
    "~19k rows - not bad, will defo be enough to do basic modelling on. Save as a parquet and bounce on over to EDA"
   ]
  },
  {
   "cell_type": "code",
   "execution_count": null,
   "metadata": {},
   "outputs": [],
   "source": [
    "df.to_parquet('1.1-.parquet.gzip',\n",
    "              compression='gzip') "
   ]
  }
 ],
 "metadata": {
  "kernelspec": {
   "display_name": "Python 3",
   "language": "python",
   "name": "python3"
  },
  "language_info": {
   "codemirror_mode": {
    "name": "ipython",
    "version": 3
   },
   "file_extension": ".py",
   "mimetype": "text/x-python",
   "name": "python",
   "nbconvert_exporter": "python",
   "pygments_lexer": "ipython3",
   "version": "3.7.4"
  }
 },
 "nbformat": 4,
 "nbformat_minor": 4
}
