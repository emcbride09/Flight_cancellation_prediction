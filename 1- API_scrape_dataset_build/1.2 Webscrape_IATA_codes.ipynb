{
 "cells": [
  {
   "cell_type": "markdown",
   "metadata": {},
   "source": [
    "## IATA scrape"
   ]
  },
  {
   "cell_type": "code",
   "execution_count": 74,
   "metadata": {},
   "outputs": [],
   "source": [
    "# Import necessary packages\n",
    "from bs4 import BeautifulSoup\n",
    "import requests\n",
    "import pandas as pd\n",
    "import numpy as np\n",
    "import re\n",
    "import lxml\n",
    "import bs4.builder._lxml\n",
    "# Site URL\n",
    "# url=\"https://azcargo.cz/en/services/support/iata-airline-codes/\"\n",
    "\n",
    "url = 'https://en.wikipedia.org/wiki/List_of_airline_codes'\n",
    "\n",
    "# Make a GET request to fetch the raw HTML content\n",
    "html_content = requests.get(url).text\n",
    "\n",
    "# Parse HTML code for the entire site\n",
    "soup = BeautifulSoup(html_content, \"html.parser\")\n",
    "\n",
    "\n",
    "#print(soup.prettify()) # print the parsed data of html"
   ]
  },
  {
   "cell_type": "code",
   "execution_count": 59,
   "metadata": {},
   "outputs": [
    {
     "name": "stdout",
     "output_type": "stream",
     "text": [
      "Number of tables on site:  1\n"
     ]
    }
   ],
   "source": [
    "gdp = soup.find_all(\"table\", attrs={\"class\": \"wikitable sortable\"})\n",
    "print(\"Number of tables on site: \",len(gdp))"
   ]
  },
  {
   "cell_type": "code",
   "execution_count": 60,
   "metadata": {},
   "outputs": [],
   "source": [
    "table1 = gdp[0]"
   ]
  },
  {
   "cell_type": "code",
   "execution_count": 61,
   "metadata": {},
   "outputs": [],
   "source": [
    "table1\n",
    "body = table1.find_all(\"tr\")\n",
    "head = body[0]\n",
    "body_rows = body[1:]"
   ]
  },
  {
   "cell_type": "code",
   "execution_count": 62,
   "metadata": {},
   "outputs": [
    {
     "name": "stdout",
     "output_type": "stream",
     "text": [
      "['IATA', 'ICAO', 'Airline', 'Call sign', 'Country/Region', 'Comments']\n"
     ]
    }
   ],
   "source": [
    "headings = []\n",
    "for item in head.find_all(\"th\"): # loop through all th elements\n",
    "    # convert the th elements to text and strip \"\\n\"\n",
    "    item = (item.text).strip(\"\\n|\\n|\\t\")\n",
    "    # append the clean column name to headings\n",
    "    headings.append(item)\n",
    "print(headings)"
   ]
  },
  {
   "cell_type": "code",
   "execution_count": 63,
   "metadata": {},
   "outputs": [],
   "source": [
    "# Next is now to loop though the rest of the rows\n",
    "\n",
    "#print(body_rows[0])\n",
    "all_rows = [] # will be a list for list for all rows\n",
    "for row_num in range(len(body_rows)): # A row at a time\n",
    "    row = [] # this will old entries for one row\n",
    "    for row_item in body_rows[row_num].find_all(\"td\"): #loop through all row entries\n",
    "        # row_item.text removes the tags from the entries\n",
    "        # the following regex is to remove \\xa0 and \\n and comma from row_item.text\n",
    "        # xa0 encodes the flag, \\n is the newline and comma separates thousands in numbers\n",
    "        aa = re.sub(\"(\\xa0)|(\\n)|,|\\n|\\t|IATA  – \",\"\",row_item.text)\n",
    "        #append aa to row - note one row entry is being appended\n",
    "        row.append(aa)\n",
    "    # append one row to all_rows\n",
    "    all_rows.append(row)"
   ]
  },
  {
   "cell_type": "code",
   "execution_count": 92,
   "metadata": {},
   "outputs": [
    {
     "data": {
      "text/html": [
       "<div>\n",
       "<style scoped>\n",
       "    .dataframe tbody tr th:only-of-type {\n",
       "        vertical-align: middle;\n",
       "    }\n",
       "\n",
       "    .dataframe tbody tr th {\n",
       "        vertical-align: top;\n",
       "    }\n",
       "\n",
       "    .dataframe thead th {\n",
       "        text-align: right;\n",
       "    }\n",
       "</style>\n",
       "<table border=\"1\" class=\"dataframe\">\n",
       "  <thead>\n",
       "    <tr style=\"text-align: right;\">\n",
       "      <th></th>\n",
       "      <th>IATA</th>\n",
       "      <th>ICAO</th>\n",
       "      <th>Airline</th>\n",
       "      <th>Call sign</th>\n",
       "      <th>Country/Region</th>\n",
       "      <th>Comments</th>\n",
       "    </tr>\n",
       "  </thead>\n",
       "  <tbody>\n",
       "    <tr>\n",
       "      <th>0</th>\n",
       "      <td>EVY</td>\n",
       "      <td></td>\n",
       "      <td>34 Squadron Royal Australian Air Force</td>\n",
       "      <td>Australia</td>\n",
       "      <td></td>\n",
       "      <td>None</td>\n",
       "    </tr>\n",
       "    <tr>\n",
       "      <th>1</th>\n",
       "      <td></td>\n",
       "      <td>GNL</td>\n",
       "      <td>135 Airways</td>\n",
       "      <td>GENERAL</td>\n",
       "      <td>United States</td>\n",
       "      <td></td>\n",
       "    </tr>\n",
       "    <tr>\n",
       "      <th>2</th>\n",
       "      <td>1A</td>\n",
       "      <td>n/a</td>\n",
       "      <td>Amadeus IT Group S.A.</td>\n",
       "      <td>n/a</td>\n",
       "      <td>Global</td>\n",
       "      <td>GDS and airline hosting system (CRS/PSS)</td>\n",
       "    </tr>\n",
       "    <tr>\n",
       "      <th>3</th>\n",
       "      <td>1B</td>\n",
       "      <td>n/a</td>\n",
       "      <td>Sabre travel network Asia-Pacific (ex-Abacus)</td>\n",
       "      <td>n/a</td>\n",
       "      <td>APAC</td>\n",
       "      <td>Regional distribution</td>\n",
       "    </tr>\n",
       "    <tr>\n",
       "      <th>4</th>\n",
       "      <td>1E</td>\n",
       "      <td>n/a</td>\n",
       "      <td>Travelsky</td>\n",
       "      <td>n/a</td>\n",
       "      <td>China</td>\n",
       "      <td>Local distribution system and hosting system (...</td>\n",
       "    </tr>\n",
       "  </tbody>\n",
       "</table>\n",
       "</div>"
      ],
      "text/plain": [
       "  IATA ICAO                                        Airline  Call sign  \\\n",
       "0  EVY              34 Squadron Royal Australian Air Force  Australia   \n",
       "1       GNL                                    135 Airways    GENERAL   \n",
       "2   1A  n/a                          Amadeus IT Group S.A.        n/a   \n",
       "3   1B  n/a  Sabre travel network Asia-Pacific (ex-Abacus)        n/a   \n",
       "4   1E  n/a                                      Travelsky        n/a   \n",
       "\n",
       "  Country/Region                                           Comments  \n",
       "0                                                              None  \n",
       "1  United States                                                     \n",
       "2         Global           GDS and airline hosting system (CRS/PSS)  \n",
       "3           APAC                              Regional distribution  \n",
       "4          China  Local distribution system and hosting system (...  "
      ]
     },
     "execution_count": 92,
     "metadata": {},
     "output_type": "execute_result"
    }
   ],
   "source": [
    "# We can now use the data on all_rowsa and headings to make a table\n",
    "# all_rows becomes our data and headings the column names\n",
    "df = pd.DataFrame(data=all_rows,columns=headings)\n",
    "df.head()"
   ]
  },
  {
   "cell_type": "code",
   "execution_count": 98,
   "metadata": {},
   "outputs": [
    {
     "name": "stderr",
     "output_type": "stream",
     "text": [
      "C:\\Users\\ellio\\Anaconda3\\lib\\site-packages\\pandas\\core\\indexing.py:1842: SettingWithCopyWarning: \n",
      "A value is trying to be set on a copy of a slice from a DataFrame.\n",
      "Try using .loc[row_indexer,col_indexer] = value instead\n",
      "\n",
      "See the caveats in the documentation: https://pandas.pydata.org/pandas-docs/stable/user_guide/indexing.html#returning-a-view-versus-a-copy\n",
      "  self.obj[item_labels[indexer[info_axis]]] = value\n"
     ]
    },
    {
     "data": {
      "text/plain": [
       "False"
      ]
     },
     "execution_count": 98,
     "metadata": {},
     "output_type": "execute_result"
    }
   ],
   "source": [
    "df.replace({'ICAO' : { '' : np.nan, 'n/a' : np.nan}}, inplace = True)\n",
    "\n",
    "df = df[df.ICAO.notnull()]\n",
    "\n",
    "df['ICAO'].isnull().any()"
   ]
  },
  {
   "cell_type": "code",
   "execution_count": 95,
   "metadata": {},
   "outputs": [
    {
     "data": {
      "text/html": [
       "<div>\n",
       "<style scoped>\n",
       "    .dataframe tbody tr th:only-of-type {\n",
       "        vertical-align: middle;\n",
       "    }\n",
       "\n",
       "    .dataframe tbody tr th {\n",
       "        vertical-align: top;\n",
       "    }\n",
       "\n",
       "    .dataframe thead th {\n",
       "        text-align: right;\n",
       "    }\n",
       "</style>\n",
       "<table border=\"1\" class=\"dataframe\">\n",
       "  <thead>\n",
       "    <tr style=\"text-align: right;\">\n",
       "      <th></th>\n",
       "      <th>IATA</th>\n",
       "      <th>ICAO</th>\n",
       "      <th>Airline</th>\n",
       "      <th>Call sign</th>\n",
       "      <th>Country/Region</th>\n",
       "      <th>Comments</th>\n",
       "    </tr>\n",
       "  </thead>\n",
       "  <tbody>\n",
       "    <tr>\n",
       "      <th>0</th>\n",
       "      <td>EVY</td>\n",
       "      <td>NaN</td>\n",
       "      <td>34 Squadron Royal Australian Air Force</td>\n",
       "      <td>Australia</td>\n",
       "      <td></td>\n",
       "      <td>None</td>\n",
       "    </tr>\n",
       "    <tr>\n",
       "      <th>1</th>\n",
       "      <td></td>\n",
       "      <td>GNL</td>\n",
       "      <td>135 Airways</td>\n",
       "      <td>GENERAL</td>\n",
       "      <td>United States</td>\n",
       "      <td></td>\n",
       "    </tr>\n",
       "    <tr>\n",
       "      <th>2</th>\n",
       "      <td>1A</td>\n",
       "      <td>NaN</td>\n",
       "      <td>Amadeus IT Group S.A.</td>\n",
       "      <td>n/a</td>\n",
       "      <td>Global</td>\n",
       "      <td>GDS and airline hosting system (CRS/PSS)</td>\n",
       "    </tr>\n",
       "    <tr>\n",
       "      <th>3</th>\n",
       "      <td>1B</td>\n",
       "      <td>NaN</td>\n",
       "      <td>Sabre travel network Asia-Pacific (ex-Abacus)</td>\n",
       "      <td>n/a</td>\n",
       "      <td>APAC</td>\n",
       "      <td>Regional distribution</td>\n",
       "    </tr>\n",
       "    <tr>\n",
       "      <th>4</th>\n",
       "      <td>1E</td>\n",
       "      <td>NaN</td>\n",
       "      <td>Travelsky</td>\n",
       "      <td>n/a</td>\n",
       "      <td>China</td>\n",
       "      <td>Local distribution system and hosting system (...</td>\n",
       "    </tr>\n",
       "    <tr>\n",
       "      <th>...</th>\n",
       "      <td>...</td>\n",
       "      <td>...</td>\n",
       "      <td>...</td>\n",
       "      <td>...</td>\n",
       "      <td>...</td>\n",
       "      <td>...</td>\n",
       "    </tr>\n",
       "    <tr>\n",
       "      <th>6111</th>\n",
       "      <td></td>\n",
       "      <td>CYN</td>\n",
       "      <td>Zhongyuan Aviation</td>\n",
       "      <td>ZHONGYUAN</td>\n",
       "      <td>China</td>\n",
       "      <td>ICAO Code and callsign no longer allocated</td>\n",
       "    </tr>\n",
       "    <tr>\n",
       "      <th>6112</th>\n",
       "      <td>3J</td>\n",
       "      <td>WZP</td>\n",
       "      <td>Zip</td>\n",
       "      <td>ZIPPER</td>\n",
       "      <td>Canada</td>\n",
       "      <td>ICAO Code and callsign no longer allocated</td>\n",
       "    </tr>\n",
       "    <tr>\n",
       "      <th>6113</th>\n",
       "      <td>ZG</td>\n",
       "      <td>TZT</td>\n",
       "      <td>ZIPAIR Tokyo</td>\n",
       "      <td>ZIPPY</td>\n",
       "      <td>Japan</td>\n",
       "      <td>Subsidiary of Japan Airlines</td>\n",
       "    </tr>\n",
       "    <tr>\n",
       "      <th>6114</th>\n",
       "      <td>Z4</td>\n",
       "      <td>OOM</td>\n",
       "      <td>Zoom Airlines</td>\n",
       "      <td>ZOOM</td>\n",
       "      <td>Canada</td>\n",
       "      <td>defunct ICAO Code and callsign no longer alloc...</td>\n",
       "    </tr>\n",
       "    <tr>\n",
       "      <th>6115</th>\n",
       "      <td></td>\n",
       "      <td>ORZ</td>\n",
       "      <td>Zorex</td>\n",
       "      <td>ZOREX</td>\n",
       "      <td>Spain</td>\n",
       "      <td></td>\n",
       "    </tr>\n",
       "  </tbody>\n",
       "</table>\n",
       "<p>6116 rows × 6 columns</p>\n",
       "</div>"
      ],
      "text/plain": [
       "     IATA ICAO                                        Airline  Call sign  \\\n",
       "0     EVY  NaN         34 Squadron Royal Australian Air Force  Australia   \n",
       "1          GNL                                    135 Airways    GENERAL   \n",
       "2      1A  NaN                          Amadeus IT Group S.A.        n/a   \n",
       "3      1B  NaN  Sabre travel network Asia-Pacific (ex-Abacus)        n/a   \n",
       "4      1E  NaN                                      Travelsky        n/a   \n",
       "...   ...  ...                                            ...        ...   \n",
       "6111       CYN                             Zhongyuan Aviation  ZHONGYUAN   \n",
       "6112   3J  WZP                                            Zip     ZIPPER   \n",
       "6113   ZG  TZT                                   ZIPAIR Tokyo      ZIPPY   \n",
       "6114   Z4  OOM                                  Zoom Airlines       ZOOM   \n",
       "6115       ORZ                                          Zorex      ZOREX   \n",
       "\n",
       "     Country/Region                                           Comments  \n",
       "0                                                                 None  \n",
       "1     United States                                                     \n",
       "2            Global           GDS and airline hosting system (CRS/PSS)  \n",
       "3              APAC                              Regional distribution  \n",
       "4             China  Local distribution system and hosting system (...  \n",
       "...             ...                                                ...  \n",
       "6111          China         ICAO Code and callsign no longer allocated  \n",
       "6112         Canada         ICAO Code and callsign no longer allocated  \n",
       "6113          Japan                       Subsidiary of Japan Airlines  \n",
       "6114         Canada  defunct ICAO Code and callsign no longer alloc...  \n",
       "6115          Spain                                                     \n",
       "\n",
       "[6116 rows x 6 columns]"
      ]
     },
     "execution_count": 95,
     "metadata": {},
     "output_type": "execute_result"
    }
   ],
   "source": []
  },
  {
   "cell_type": "markdown",
   "metadata": {},
   "source": [
    "### can I scrape cancelled flight for the last 30 days?"
   ]
  },
  {
   "cell_type": "code",
   "execution_count": 99,
   "metadata": {},
   "outputs": [],
   "source": [
    "# url=\"https://azcargo.cz/en/services/support/iata-airline-codes/\"\n",
    "\n",
    "url = 'https://givt.com/en/airports/lhr-delayed-cancelled-flights/'\n",
    "\n",
    "# Make a GET request to fetch the raw HTML content\n",
    "html_content = requests.get(url).text\n",
    "\n",
    "# Parse HTML code for the entire site\n",
    "soup = BeautifulSoup(html_content, \"html.parser\")"
   ]
  },
  {
   "cell_type": "code",
   "execution_count": 101,
   "metadata": {},
   "outputs": [
    {
     "name": "stdout",
     "output_type": "stream",
     "text": [
      "Number of tables on site:  10\n"
     ]
    }
   ],
   "source": [
    "gdp = soup.find_all(\"div\", attrs={\"class\": \"incidents_table--element active page page-1\"})\n",
    "print(\"Number of tables on site: \",len(gdp))"
   ]
  },
  {
   "cell_type": "code",
   "execution_count": null,
   "metadata": {},
   "outputs": [],
   "source": []
  }
 ],
 "metadata": {
  "kernelspec": {
   "display_name": "Python 3",
   "language": "python",
   "name": "python3"
  },
  "language_info": {
   "codemirror_mode": {
    "name": "ipython",
    "version": 3
   },
   "file_extension": ".py",
   "mimetype": "text/x-python",
   "name": "python",
   "nbconvert_exporter": "python",
   "pygments_lexer": "ipython3",
   "version": "3.7.4"
  }
 },
 "nbformat": 4,
 "nbformat_minor": 4
}
